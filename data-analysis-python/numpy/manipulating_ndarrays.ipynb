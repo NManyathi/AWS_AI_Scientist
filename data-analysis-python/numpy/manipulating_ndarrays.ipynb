{
 "cells": [
  {
   "cell_type": "markdown",
   "id": "a7825c17",
   "metadata": {},
   "source": [
    "## 🧮 Manipulating ndarrays with NumPy\n",
    "\n",
    "**Objective:**  \n",
    "Create and manipulate NumPy arrays to practice Boolean indexing, array reshaping, and data inspection.  \n",
    "\n",
    "This exercise focuses on generating a 5×5 array of integers from 1 to 25 and extracting only the odd numbers using Boolean masking."
   ]
  },
  {
   "cell_type": "code",
   "execution_count": 2,
   "id": "374565fd",
   "metadata": {},
   "outputs": [
    {
     "name": "stdout",
     "output_type": "stream",
     "text": [
      "📊 Original 5x5 Array (X):\n",
      " [[ 1  2  3  4  5]\n",
      " [ 6  7  8  9 10]\n",
      " [11 12 13 14 15]\n",
      " [16 17 18 19 20]\n",
      " [21 22 23 24 25]]\n",
      "\n",
      "✅ Array Shape: (5, 5)\n",
      "✅ Data Type: int64\n",
      "\n",
      "🔍 Boolean Mask for Odd Numbers:\n",
      " [[1 0 1 0 1]\n",
      " [0 1 0 1 0]\n",
      " [1 0 1 0 1]\n",
      " [0 1 0 1 0]\n",
      " [1 0 1 0 1]]\n",
      "\n",
      "🎯 Extracted Odd Numbers (Y):\n",
      " [ 1  3  5  7  9 11 13 15 17 19 21 23 25]\n",
      "✅ Total Odd Numbers Extracted: 13\n",
      "\n",
      "📈 Flattened View of Odd Numbers:\n",
      " [ 1  3  5  7  9 11 13 15 17 19 21 23 25]\n"
     ]
    }
   ],
   "source": [
    "import numpy as np\n",
    "\n",
    "# --- Array Creation ---\n",
    "# Create a 5x5 ndarray with consecutive integers from 1 to 25 (inclusive)\n",
    "X = np.arange(1, 26).reshape(5, 5)\n",
    "\n",
    "# --- Array Manipulation ---\n",
    "# Use Boolean indexing to extract only odd numbers\n",
    "odd_mask = X % 2 != 0\n",
    "Y = X[odd_mask]\n",
    "\n",
    "# --- Optional Verification & Insights ---\n",
    "# Verify shape, dtype, and array properties\n",
    "print(\"📊 Original 5x5 Array (X):\\n\", X)\n",
    "print(\"\\n✅ Array Shape:\", X.shape)\n",
    "print(\"✅ Data Type:\", X.dtype)\n",
    "\n",
    "print(\"\\n🔍 Boolean Mask for Odd Numbers:\\n\", odd_mask.astype(int))\n",
    "print(\"\\n🎯 Extracted Odd Numbers (Y):\\n\", Y)\n",
    "print(\"✅ Total Odd Numbers Extracted:\", Y.size)\n",
    "\n",
    "# --- Advanced Manipulation (Optional Learning Section) ---\n",
    "# Reshape Y into a 3x? matrix (padding not needed here since Y has 13 elements)\n",
    "# Example: You could reshape or view as 1-D, or even normalize, etc.\n",
    "Y_flat = Y.flatten()\n",
    "print(\"\\n📈 Flattened View of Odd Numbers:\\n\", Y_flat)\n"
   ]
  },
  {
   "cell_type": "markdown",
   "id": "3565aa78",
   "metadata": {},
   "source": [
    "### 🧠 Reflection\n",
    "From this exercise, I learned:\n",
    "- How to create structured arrays using `np.arange()` and `reshape()`.  \n",
    "- How Boolean masks can filter arrays based on custom conditions.  \n",
    "- How to inspect arrays using `.shape`, `.dtype`, and `.size`.  \n",
    "- The value of flattening and viewing data in different dimensions.  "
   ]
  }
 ],
 "metadata": {
  "kernelspec": {
   "display_name": "aws_ai_env (3.13.5)",
   "language": "python",
   "name": "python3"
  },
  "language_info": {
   "codemirror_mode": {
    "name": "ipython",
    "version": 3
   },
   "file_extension": ".py",
   "mimetype": "text/x-python",
   "name": "python",
   "nbconvert_exporter": "python",
   "pygments_lexer": "ipython3",
   "version": "3.13.5"
  }
 },
 "nbformat": 4,
 "nbformat_minor": 5
}
