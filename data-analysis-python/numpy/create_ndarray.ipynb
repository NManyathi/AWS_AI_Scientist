{
 "cells": [
  {
   "cell_type": "markdown",
   "id": "7ca4894b",
   "metadata": {},
   "source": [
    "Create an ndarray\n",
    "Using the NumPy functions you learned about on the previous page, create a 4 x 4 ndarray that only contains consecutive even numbers from 2 to 32 (inclusive)."
   ]
  },
  {
   "cell_type": "code",
   "execution_count": null,
   "id": "74fbe925",
   "metadata": {},
   "outputs": [],
   "source": [
    "import numpy as np\n",
    "\n",
    "# TODO: Replace None with appropriate code to create the desired ndarray\n",
    "# Objective: Create a 4x4 ndarray of even numbers from 2 to 32\n",
    "X = np.arange(2, 34, 2).reshape(4, 4) # None was replaced with appropriate code\n",
    "\n",
    "### Notebook grading\n",
    "solution = np.arange(2, 34, 2).reshape(4, 4)\n",
    "\n",
    "if type(X) != np.ndarray:\n",
    "    print(\"`X` should be an ndarray\")\n",
    "elif np.array_equal(X, solution):\n",
    "    print(\"Nice work! You can view my solution below\")\n",
    "elif X.shape != solution.shape:\n",
    "    print(\"Your answer for `X` has a shape of {} but it should be 4 x 4\".format(X.shape))\n",
    "else:\n",
    "    print(\"Your answer for `X` has the right shape but incorrect values\")\n"
   ]
  }
 ],
 "metadata": {
  "kernelspec": {
   "display_name": "aws_ai_env (3.13.5)",
   "language": "python",
   "name": "python3"
  },
  "language_info": {
   "name": "python",
   "version": "3.13.5"
  }
 },
 "nbformat": 4,
 "nbformat_minor": 5
}
