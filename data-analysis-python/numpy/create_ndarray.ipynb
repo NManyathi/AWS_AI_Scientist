{
 "cells": [
  {
   "cell_type": "markdown",
   "id": "7ca4894b",
   "metadata": {},
   "source": [
    "# NumPy Exercise: Creating a 4x4 ndarray of Even Numbers"
   ]
  },
  {
   "cell_type": "markdown",
   "id": "3d07238e",
   "metadata": {},
   "source": [
    "## Overview\n",
    "\n",
    "This short exercise explores how to create and reshape NumPy arrays efficiently.  \n",
    "The goal is to generate a 4x4 matrix containing even numbers between 2 and 32 using NumPy’s built-in functions.\n",
    "\n",
    "Working with arrays is an essential skill in data analysis and scientific computing, as they provide the foundation for handling large datasets and performing vectorized computations."
   ]
  },
  {
   "cell_type": "code",
   "execution_count": 1,
   "id": "74fbe925",
   "metadata": {},
   "outputs": [
    {
     "name": "stdout",
     "output_type": "stream",
     "text": [
      "4x4 ndarray of even numbers:\n",
      "[[ 2  4  6  8]\n",
      " [10 12 14 16]\n",
      " [18 20 22 24]\n",
      " [26 28 30 32]]\n"
     ]
    }
   ],
   "source": [
    "import numpy as np\n",
    "\n",
    "# Create a NumPy array containing even numbers from 2 to 32\n",
    "# np.arange() generates evenly spaced values within a given interval.\n",
    "# The reshape() method organizes the sequence into a 4x4 matrix.\n",
    "\n",
    "X = np.arange(2, 34, 2).reshape(4, 4)\n",
    "\n",
    "# Display the resulting array\n",
    "print(\"4x4 ndarray of even numbers:\")\n",
    "print(X)"
   ]
  },
  {
   "cell_type": "markdown",
   "id": "09b4c7a8",
   "metadata": {},
   "source": [
    "## Output Explanation\n",
    "\n",
    "The result is a 4x4 ndarray structured as follows:\n",
    "4x4 ndarray of even numbers:\n",
    "[[ 2  4  6  8]\n",
    " [10 12 14 16]\n",
    " [18 20 22 24]\n",
    " [26 28 30 32]]"
   ]
  },
  {
   "cell_type": "markdown",
   "id": "dbc5b978",
   "metadata": {},
   "source": [
    "## Reflection\n",
    "\n",
    "This exercise reinforces how array creation and reshaping can simplify working with numeric data.  \n",
    "In future exercises, similar techniques will be used to explore slicing, indexing, and mathematical operations — forming the base for more advanced data analysis tasks."
   ]
  }
 ],
 "metadata": {
  "kernelspec": {
   "display_name": "aws_ai_env (3.13.5)",
   "language": "python",
   "name": "python3"
  },
  "language_info": {
   "codemirror_mode": {
    "name": "ipython",
    "version": 3
   },
   "file_extension": ".py",
   "mimetype": "text/x-python",
   "name": "python",
   "nbconvert_exporter": "python",
   "pygments_lexer": "ipython3",
   "version": "3.13.5"
  }
 },
 "nbformat": 4,
 "nbformat_minor": 5
}
