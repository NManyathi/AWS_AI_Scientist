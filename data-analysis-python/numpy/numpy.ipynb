{
 "cells": [
  {
   "cell_type": "code",
   "execution_count": 7,
   "id": "eacacc04",
   "metadata": {},
   "outputs": [],
   "source": [
    "import time\n",
    "import numpy as np\n",
    "\n",
    "# Create an array with 100 million random values between 0 and 1\n",
    "x = np.random.random(100000000)"
   ]
  },
  {
   "cell_type": "code",
   "execution_count": 8,
   "id": "70acf545",
   "metadata": {},
   "outputs": [
    {
     "name": "stdout",
     "output_type": "stream",
     "text": [
      "Python mean time: 24.278972148895264 seconds\n"
     ]
    }
   ],
   "source": [
    "# Calculate the mean manually with Python's sum() and len()\n",
    "# This approach loops through each element in Python, which makes it slow.\n",
    "start = time.time()\n",
    "sum(x) / len(x)\n",
    "print(\"Python mean time:\", time.time() - start, \"seconds\")"
   ]
  },
  {
   "cell_type": "code",
   "execution_count": 9,
   "id": "4f8ae3fd",
   "metadata": {},
   "outputs": [
    {
     "name": "stdout",
     "output_type": "stream",
     "text": [
      "NumPy mean time: 2.7906851768493652 seconds\n"
     ]
    }
   ],
   "source": [
    "# NumPy's mean() uses optimized C code and vectorized operations,\n",
    "# so it runs much faster, even for very large datasets.\n",
    "start = time.time()\n",
    "np.mean(x)\n",
    "print(\"NumPy mean time:\", time.time() - start, \"seconds\")"
   ]
  }
 ],
 "metadata": {
  "kernelspec": {
   "display_name": "aws_ai_env (3.13.5)",
   "language": "python",
   "name": "python3"
  },
  "language_info": {
   "codemirror_mode": {
    "name": "ipython",
    "version": 3
   },
   "file_extension": ".py",
   "mimetype": "text/x-python",
   "name": "python",
   "nbconvert_exporter": "python",
   "pygments_lexer": "ipython3",
   "version": "3.13.5"
  }
 },
 "nbformat": 4,
 "nbformat_minor": 5
}
