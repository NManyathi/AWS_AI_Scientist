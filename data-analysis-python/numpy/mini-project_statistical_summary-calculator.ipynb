{
 "cells": [
  {
   "cell_type": "markdown",
   "id": "89b15324",
   "metadata": {},
   "source": [
    "# Statistical Summary Calculator\n",
    "\n",
    "## 🧩 Objective\n",
    "The goal of this mini-project is to create a small, reusable tool to compute **descriptive statistics** using NumPy arrays. It provides a clean and efficient way to summarize datasets, calculate central tendencies, dispersion, and percentiles without relying on external statistical libraries like pandas.\n",
    "\n",
    "---\n",
    "\n",
    "## 📘 Learning Outcomes\n",
    "- Use **NumPy** to handle and manipulate numerical data.\n",
    "- Compute descriptive statistics manually using **NumPy functions**.\n",
    "- Write reusable functions for mean, median, variance, and standard deviation.\n",
    "- Read numeric data from a CSV file and summarize it."
   ]
  },
  {
   "cell_type": "code",
   "execution_count": 1,
   "id": "adab4985",
   "metadata": {},
   "outputs": [
    {
     "name": "stdout",
     "output_type": "stream",
     "text": [
      "Mean: 56.406666666666666\n",
      "Median: 61.0\n",
      "Variance: 799.4241163310961\n",
      "Standard Deviation: 28.27408913353525\n",
      "Min: 1.0\n",
      "Max: 100.0\n",
      "Percentiles: [33.5  61.   79.75]\n"
     ]
    }
   ],
   "source": [
    "import numpy as np\n",
    "from summary_functions import *\n",
    "import os\n",
    "os.chdir(r\"C:\\Users\\Naspers_Labs\\desktop\\udacity\\aws_ai_scientist\\data-analysis-python\\numpy\")\n",
    "\n",
    "# Load data\n",
    "data = np.loadtxt('./sample_data.csv', delimiter=',', skiprows=1, usecols=1)\n",
    "\n",
    "print(\"Mean:\", calculate_mean(data))\n",
    "print(\"Median:\", calculate_median(data))\n",
    "print(\"Variance:\", calculate_variance(data))\n",
    "print(\"Standard Deviation:\", calculate_std_dev(data))\n",
    "print(\"Min:\", calculate_min(data))\n",
    "print(\"Max:\", calculate_max(data))\n",
    "print(\"Percentiles:\", calculate_percentiles(data))"
   ]
  }
 ],
 "metadata": {
  "kernelspec": {
   "display_name": "aws_ai_env (3.13.5)",
   "language": "python",
   "name": "python3"
  },
  "language_info": {
   "codemirror_mode": {
    "name": "ipython",
    "version": 3
   },
   "file_extension": ".py",
   "mimetype": "text/x-python",
   "name": "python",
   "nbconvert_exporter": "python",
   "pygments_lexer": "ipython3",
   "version": "3.13.5"
  }
 },
 "nbformat": 4,
 "nbformat_minor": 5
}
